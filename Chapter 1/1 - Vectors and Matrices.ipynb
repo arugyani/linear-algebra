{
 "cells": [
  {
   "cell_type": "markdown",
   "metadata": {},
   "source": [
    "# 1. Vectors and Matrices\n",
    "\n",
    "## Table of Contents\n",
    "\n",
    "[1.1: Linear Combinations of Vectors](#11-linear-combinations-of-vectors)\n",
    "- [What is a Vector](#what-is-a-vector)\n",
    "    - [The physics student's perspective](#the-physics-students-perspective)\n",
    "    - [The computer science student's perspective](#the-computer-science-students-perspective)\n",
    "    - [The mathematician's perspective](#the-mathematicians-perspective)\n",
    "    - [What to think of when you hear the word \"vector\"](#what-to-think-of-when-you-hear-the-word-vector)\n",
    "- [Lines & Planes](#lines--planes)\n",
    "\n",
    "[1.2: Lengths and Angles from Dot Products](#12-lengths-and-angles-from-dot-products)\n",
    "\n",
    "[1.3: Matrices and Column Spaces](#13-matrices-and-column-spaces)\n",
    "\n",
    "[1.4: Matrix Multiplication and $A = CR$](#14-matrix-multiplication-and)"
   ]
  },
  {
   "cell_type": "markdown",
   "metadata": {},
   "source": [
    "## 1.1: Linear Combinations of Vectors\n",
    "\n",
    "### What is a Vector\n",
    "> \"The fundamenal, root-of-it-all building block for linear algebra is the vector\" - Grant Sanderson (3Blue1Brown)\n",
    "\n",
    "> The notes for this section \"What is a Vector\" are not-so-loosely derived from the 3Blue1Brown YouTube channel's video titled [\"Vectors | Chapter 1, Essence of linear algebra\"](https://www.youtube.com/watch?v=fNk_zzaMoSs). I highly recommend watching this video first. It's amazing & the following notes on vectors are almost entirely transcribed from it.\n",
    "\n",
    "As Mr. Sanderson eloquently stated, vector(s) are rather important & we should get a baseline of what they are before continuing down the path of linear algebra.\n",
    "\n",
    "Broadly speaking, there are 3 distinct but related perspectives/ideas about vectors:\n",
    "- the physics student's\n",
    "- the computer science student's\n",
    "- the mathematician's\n",
    "\n",
    "#### The physics student's perspective\n",
    "The physics student sees vectors as *arrows pointing in space* with a head & a tail (front & back). They define a given vector by **its length & the direction its pointing**. These vectors are typically seen in two different lights: those that sit in flat space (2D), and those sitting in broader space (3D)."
   ]
  },
  {
   "cell_type": "code",
   "execution_count": 1,
   "metadata": {
    "tags": [
     "todo"
    ]
   },
   "outputs": [],
   "source": [
    "# TODO: PHYSICS STUDENT VISUALIZATION PERSPECTIVE"
   ]
  },
  {
   "cell_type": "markdown",
   "metadata": {},
   "source": [
    "#### The computer science student's perspective\n",
    "The computer science student sees vectors as *ordered lists of numbers*. For example, let's say you were doing some analytics about house prices and the only features you cared about were square footage and price. You might model each house with a pair of numbers: the first indicating square footage, and the second indicating price. You'll notice that **order matters here**\n",
    "\n",
    "$$\n",
    "\\begin{bmatrix}2,600\\text{ ft}^2\\\\ \\$ 300,000\\end{bmatrix} \\neq \\begin{bmatrix}\\$ 300,000 \\\\ 2,600\\text{ ft}^2\\end{bmatrix}\n",
    "$$\n",
    "\n",
    "In the lingo, you'd be modeling houses as two-dimensional vectors. In this context, vector is pretty much just a fancy word for list. What makes it two-dimensional, is the fact that the **length of the list is two**."
   ]
  },
  {
   "cell_type": "code",
   "execution_count": 2,
   "metadata": {
    "tags": [
     "todo"
    ]
   },
   "outputs": [],
   "source": [
    "# TODO: CS STUDENT VISUALIZATION PERSPECTIVE"
   ]
  },
  {
   "cell_type": "markdown",
   "metadata": {},
   "source": [
    "#### The mathematician's perspective\n",
    "The mathematician seeks to generalize both of these views. Basically, they say that a vecctor *can be anything where there's a sensible notion of adding two vectors & multiplying vectors by a number*"
   ]
  },
  {
   "cell_type": "code",
   "execution_count": null,
   "metadata": {},
   "outputs": [],
   "source": [
    "# TODO: MATHEMATICIAN'S PERSPECTIVE VISUALIZATION "
   ]
  },
  {
   "cell_type": "markdown",
   "metadata": {},
   "source": [
    "#### What to think of when you hear the word \"vector\"\n",
    "\n",
    "Whenever you hear a topic involving vectors:\n",
    "\n",
    "First, think about an arrow inside a coordinate system, like the **xy-plane**, with its tail sitting at the origin. This is a bit different from the physics perspective, where a vector can sit anywhere in space. In linear algebra, it's almost always the case that your vector will be rooted at the origin. Then, once you understand a new concept in the context of arrows in space, we'll translate it over the [list of numbers point of view](#the-computer-science-students-perspective) by considering the coordinates of the vector.\n",
    "\n",
    "> The coordinates of a vector basically gives instructions from how to get from the tail of that vector (at the origin) to its tip.\n",
    "\n",
    "1. **The first number** tells you how far to walk along the x-axis (positive #'s indicating rightward motion, negative #'s indicating leftward motion)\n",
    "2. **The second number** tells you how far to walk *parallel* to the y-axis (positive #'s indicating upward motion, negative #'s indicating downward motion)\n",
    "\n",
    "To distinguish vectors from points, the convention is to write this pair of numbers vertically with square brackets around them.\n",
    "\n",
    "*What about in 3D?*\n",
    "\n",
    "Just add a number! You have a 2D vector $\\begin{bmatrix} x \\\\ y \\end{bmatrix}$, add the z-axis to it: $\\begin{bmatrix} x \\\\ y \\\\ z\\end{bmatrix}$"
   ]
  },
  {
   "cell_type": "markdown",
   "metadata": {},
   "source": [
    "\n",
    "### Linear Combinations\n",
    "\n",
    "The idea of linear algebra is in two _vector_ operations:\n",
    "\n",
    "- adding vectors: $v + w$\n",
    "- multiplying vectors by scalars (e.g. $c$ and $d$): $cv$ and $dw$\n",
    "\n",
    "When we combine these operations, we get a **_linear combination_**.\n",
    "\n",
    "$$\n",
    "\\text{Linear combination} \\qquad cv + dw = c \\begin{bmatrix}1\\\\1\\end{bmatrix} + d \\begin{bmatrix}2\\\\3\\end{bmatrix} = \\begin{bmatrix}c + 2d\\\\c + 3d\\end{bmatrix}\n",
    "$$\n",
    "\n",
    "Linear combinations are super important. Sure, sometimes we only need a particular combination, like the combination where $c = 2$ and $d = 1$ that produces $cv + dw = (4,5)$. But other times we want _all the combinations_ of $v$ and $w$. Sometimes, these combinations produce the **zero vector**, these combinations have special importance (question: idk what yet though).\n",
    "\n",
    "Note: $0v + 0w$ is always the zero vector (question: what does this mean)\n",
    "\n",
    "### Lines & Planes\n",
    "\n",
    "> The vectors $cv$ lie along a line.\n",
    "\n",
    "This statement can be a bit confusing.\n",
    "\n",
    "First, why do we say \"vectors\" in plural when talking about $cv$? Here, $c$ is a _scalar_, meaning it can be any real number. When we multiply the vector $v$ by different values of $c$, it changes $v$, giving us different vectors, e.g.\n",
    "\n",
    "$$\n",
    "c \\in \\R\\\\\n",
    "v = \\begin{bmatrix}1\\\\1\\end{bmatrix}\\\\\n",
    "\\therefore \\qquad cv = \\begin{bmatrix}c\\\\c\\end{bmatrix}\\\\\n",
    "$$\n",
    "\n",
    "Now, why do we say that vectors $cv$ lie along a line? Let's reword the last thing we covered to put it in the context of a line (although it doesn't change the meaning!)...\n",
    "\n",
    "> When we multiply the vector $v$ by different values of $c$, **it stretches or shrinks $v$**, resulting in different vectors.\n",
    "\n",
    "Let's say that our vector $v$ represents a point in space starting from the origin $(0,0)$. When we multiply this vector by a scalar $c$, we change its length, but not its direction. "
   ]
  },
  {
   "cell_type": "markdown",
   "metadata": {},
   "source": []
  }
 ],
 "metadata": {
  "kernelspec": {
   "display_name": "Julia 1.11.0",
   "language": "julia",
   "name": "julia-1.11"
  },
  "language_info": {
   "file_extension": ".jl",
   "mimetype": "application/julia",
   "name": "julia",
   "version": "1.11.0"
  }
 },
 "nbformat": 4,
 "nbformat_minor": 2
}
